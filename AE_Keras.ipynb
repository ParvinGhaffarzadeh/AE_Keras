{
  "cells": [
    {
      "cell_type": "markdown",
      "metadata": {
        "id": "view-in-github",
        "colab_type": "text"
      },
      "source": [
        "<a href=\"https://colab.research.google.com/github/ParvinGhaffarzadeh/AE_Keras/blob/main/AE_Keras.ipynb\" target=\"_parent\"><img src=\"https://colab.research.google.com/assets/colab-badge.svg\" alt=\"Open In Colab\"/></a>"
      ]
    },
    {
      "cell_type": "code",
      "execution_count": 1,
      "id": "798caa41",
      "metadata": {
        "id": "798caa41"
      },
      "outputs": [],
      "source": [
        "from keras.layers import Input, Dense\n",
        "from keras.models import Model\n",
        "from keras.datasets import mnist\n",
        "import numpy as np"
      ]
    },
    {
      "cell_type": "code",
      "execution_count": 2,
      "id": "c07997fd",
      "metadata": {
        "colab": {
          "base_uri": "https://localhost:8080/"
        },
        "id": "c07997fd",
        "outputId": "bae4a686-5b26-4981-912b-76e823f6fc59"
      },
      "outputs": [
        {
          "output_type": "stream",
          "name": "stdout",
          "text": [
            "Downloading data from https://storage.googleapis.com/tensorflow/tf-keras-datasets/mnist.npz\n",
            "11493376/11490434 [==============================] - 0s 0us/step\n",
            "11501568/11490434 [==============================] - 0s 0us/step\n"
          ]
        }
      ],
      "source": [
        "#============== Prepare our dataset\n",
        "\n",
        "# Download dataset\n",
        "(x_train, _), (x_test, _) = mnist.load_data()\n",
        "\n",
        "# Load local dataset\n",
        "# Path is relative to c:/users/<your username>/.keras/datasets\n",
        "#(x_train, _), (x_test, _) = mnist.load_data(path='mnist.npz')\n"
      ]
    },
    {
      "cell_type": "code",
      "execution_count": 3,
      "id": "97cfe22c",
      "metadata": {
        "colab": {
          "base_uri": "https://localhost:8080/"
        },
        "id": "97cfe22c",
        "outputId": "a8a49517-faa1-4510-f1f7-3139618ab8c2"
      },
      "outputs": [
        {
          "output_type": "stream",
          "name": "stdout",
          "text": [
            "Model: \"model\"\n",
            "_________________________________________________________________\n",
            " Layer (type)                Output Shape              Param #   \n",
            "=================================================================\n",
            " input_1 (InputLayer)        [(None, 784)]             0         \n",
            "                                                                 \n",
            " dense (Dense)               (None, 32)                25120     \n",
            "                                                                 \n",
            " dense_1 (Dense)             (None, 784)               25872     \n",
            "                                                                 \n",
            "=================================================================\n",
            "Total params: 50,992\n",
            "Trainable params: 50,992\n",
            "Non-trainable params: 0\n",
            "_________________________________________________________________\n"
          ]
        }
      ],
      "source": [
        "#============== Prepare our Model\n",
        "# this is our input placeholder\n",
        "input_img = Input(shape=(784,))\n",
        "\n",
        "# \"encoded\" is the encoded representation of the input\n",
        "encoded = Dense(32, activation='relu')(input_img)\n",
        "\n",
        "# \"decoded\" is the lossy reconstruction of the input\n",
        "decoded = Dense(784, activation='sigmoid')(encoded)\n",
        "\n",
        "# this model maps an input to its reconstruction\n",
        "autoencoder = Model(input_img, decoded)\n",
        "\n",
        "# compile our model and print a summary of it\n",
        "autoencoder.compile(optimizer='adam', loss='binary_crossentropy')\n",
        "autoencoder.summary()\n",
        "\n"
      ]
    },
    {
      "cell_type": "code",
      "execution_count": 4,
      "id": "b6e7ebf3",
      "metadata": {
        "colab": {
          "base_uri": "https://localhost:8080/"
        },
        "id": "b6e7ebf3",
        "outputId": "ac310cc7-ce4c-4de0-f7d0-fa0d5999266a"
      },
      "outputs": [
        {
          "output_type": "stream",
          "name": "stdout",
          "text": [
            "(60000, 784)\n",
            "(10000, 784)\n"
          ]
        }
      ],
      "source": [
        "#============== Train our Model\n",
        "\n",
        "# normalize all values between 0-1 and we will flatten the images into vectors\n",
        "x_train = x_train.astype('float32') / 255.\n",
        "x_test = x_test.astype('float32') / 255.\n",
        "x_train = x_train.reshape((len(x_train), np.prod(x_train.shape[1:])))\n",
        "x_test = x_test.reshape((len(x_test), np.prod(x_test.shape[1:])))\n",
        "print(x_train.shape)\n",
        "print(x_test.shape)\n"
      ]
    },
    {
      "cell_type": "code",
      "execution_count": 5,
      "id": "834f1dc3",
      "metadata": {
        "colab": {
          "base_uri": "https://localhost:8080/"
        },
        "id": "834f1dc3",
        "outputId": "a8562f89-da38-4813-dcd1-afec82da48c8"
      },
      "outputs": [
        {
          "output_type": "stream",
          "name": "stdout",
          "text": [
            "Epoch 1/10\n",
            "235/235 [==============================] - 3s 12ms/step - loss: 0.2769 - val_loss: 0.1849\n",
            "Epoch 2/10\n",
            "235/235 [==============================] - 3s 12ms/step - loss: 0.1677 - val_loss: 0.1512\n",
            "Epoch 3/10\n",
            "235/235 [==============================] - 3s 12ms/step - loss: 0.1427 - val_loss: 0.1325\n",
            "Epoch 4/10\n",
            "235/235 [==============================] - 3s 12ms/step - loss: 0.1280 - val_loss: 0.1210\n",
            "Epoch 5/10\n",
            "235/235 [==============================] - 3s 12ms/step - loss: 0.1183 - val_loss: 0.1130\n",
            "Epoch 6/10\n",
            "235/235 [==============================] - 3s 12ms/step - loss: 0.1114 - val_loss: 0.1071\n",
            "Epoch 7/10\n",
            "235/235 [==============================] - 3s 12ms/step - loss: 0.1063 - val_loss: 0.1028\n",
            "Epoch 8/10\n",
            "235/235 [==============================] - 3s 12ms/step - loss: 0.1024 - val_loss: 0.0995\n",
            "Epoch 9/10\n",
            "235/235 [==============================] - 3s 12ms/step - loss: 0.0995 - val_loss: 0.0970\n",
            "Epoch 10/10\n",
            "235/235 [==============================] - 3s 12ms/step - loss: 0.0975 - val_loss: 0.0955\n"
          ]
        },
        {
          "output_type": "execute_result",
          "data": {
            "text/plain": [
              "<keras.callbacks.History at 0x7f1b8fb3af10>"
            ]
          },
          "metadata": {},
          "execution_count": 5
        }
      ],
      "source": [
        "#  train our autoencoder\n",
        "n_epochs = 10\n",
        "autoencoder.fit(x_train, x_train,\n",
        "                epochs=n_epochs,\n",
        "                batch_size=256,\n",
        "                shuffle=True,\n",
        "                validation_data=(x_test, x_test))\n",
        "\n"
      ]
    },
    {
      "cell_type": "code",
      "execution_count": 6,
      "id": "8e113473",
      "metadata": {
        "id": "8e113473"
      },
      "outputs": [],
      "source": [
        "#============== Visualize our results\n",
        "\n",
        "# encode and decode some digits\n",
        "# note that we take them from the *test* set\n",
        "decoded_imgs = autoencoder.predict(x_test)\n"
      ]
    },
    {
      "cell_type": "code",
      "execution_count": 7,
      "id": "c133a28f",
      "metadata": {
        "colab": {
          "base_uri": "https://localhost:8080/",
          "height": 248
        },
        "id": "c133a28f",
        "outputId": "30ea0244-cda5-4700-ea56-59b6f65895f0"
      },
      "outputs": [
        {
          "output_type": "display_data",
          "data": {
            "image/png": "[encoded data removed]",
            "text/plain": [
              "<Figure size 1440x288 with 20 Axes>"
            ]
          },
          "metadata": {
            "needs_background": "light"
          }
        }
      ],
      "source": [
        "# use Matplotlib (don't ask)\n",
        "import matplotlib.pyplot as plt\n",
        "\n",
        "n = 10  # how many digits we will display\n",
        "plt.figure(figsize=(20, 4))\n",
        "for i in range(n):\n",
        "    # display original\n",
        "    ax = plt.subplot(2, n, i + 1)\n",
        "    plt.imshow(x_test[i].reshape(28, 28))\n",
        "    plt.gray()\n",
        "    ax.get_xaxis().set_visible(False)\n",
        "    ax.get_yaxis().set_visible(False)\n",
        "\n",
        "    # display reconstruction\n",
        "    ax = plt.subplot(2, n, i + 1 + n)\n",
        "    plt.imshow(decoded_imgs[i].reshape(28, 28))\n",
        "    plt.gray()\n",
        "    ax.get_xaxis().set_visible(False)\n",
        "    ax.get_yaxis().set_visible(False)\n",
        "plt.show()"
      ]
    }
  ],
  "metadata": {
    "kernelspec": {
      "display_name": "Python 3 (ipykernel)",
      "language": "python",
      "name": "python3"
    },
    "language_info": {
      "codemirror_mode": {
        "name": "ipython",
        "version": 3
      },
      "file_extension": ".py",
      "mimetype": "text/x-python",
      "name": "python",
      "nbconvert_exporter": "python",
      "pygments_lexer": "ipython3",
      "version": "3.9.7"
    },
    "colab": {
      "name": "AE_Keras.ipynb",
      "provenance": [],
      "include_colab_link": true
    }
  },
  "nbformat": 4,
  "nbformat_minor": 5
}